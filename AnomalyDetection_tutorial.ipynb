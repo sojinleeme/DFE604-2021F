{
  "nbformat": 4,
  "nbformat_minor": 0,
  "metadata": {
    "colab": {
      "provenance": [],
      "toc_visible": true,
      "authorship_tag": "ABX9TyPOH87wZpKL9Ed86rsPzGJR",
      "include_colab_link": true
    },
    "kernelspec": {
      "name": "python3",
      "display_name": "Python 3"
    },
    "language_info": {
      "name": "python"
    }
  },
  "cells": [
    {
      "cell_type": "markdown",
      "metadata": {
        "id": "view-in-github",
        "colab_type": "text"
      },
      "source": [
        "<a href=\"https://colab.research.google.com/github/sojinleeme/DFE604-2021F/blob/master/AnomalyDetection_tutorial.ipynb\" target=\"_parent\"><img src=\"https://colab.research.google.com/assets/colab-badge.svg\" alt=\"Open In Colab\"/></a>"
      ]
    },
    {
      "cell_type": "code",
      "execution_count": 1,
      "metadata": {
        "colab": {
          "base_uri": "https://localhost:8080/"
        },
        "id": "mhwkun4S3sk8",
        "outputId": "34418468-e356-4979-dc1b-d7a8265b6424"
      },
      "outputs": [
        {
          "output_type": "stream",
          "name": "stdout",
          "text": [
            "Cloning into 'AnomalyDetection_tutorial'...\n",
            "remote: Enumerating objects: 12, done.\u001b[K\n",
            "remote: Counting objects: 100% (12/12), done.\u001b[K\n",
            "remote: Compressing objects: 100% (9/9), done.\u001b[K\n",
            "remote: Total 12 (delta 0), reused 0 (delta 0), pack-reused 0\u001b[K\n",
            "Unpacking objects: 100% (12/12), done.\n"
          ]
        }
      ],
      "source": [
        "!git clone https://github.com/mlvlab/AnomalyDetection_tutorial.git"
      ]
    },
    {
      "cell_type": "markdown",
      "source": [
        "Data link: http://odds.cs.stonybrook.edu/"
      ],
      "metadata": {
        "id": "0LeK7ZUBAE4j"
      }
    },
    {
      "cell_type": "markdown",
      "source": [
        "## 1. Data Load\n",
        "\n",
        "### X = Multi-dimensional point data\n",
        "### y = labels (1 = outliers, 0 = inliers)"
      ],
      "metadata": {
        "id": "-t31dybv34AV"
      }
    },
    {
      "cell_type": "code",
      "source": [
        "import scipy.io\n",
        "import pandas as pd\n",
        "\n",
        "mat = scipy.io.loadmat('/content/AnomalyDetection_tutorial/thyroid.mat') \n",
        "mat = {k:v for k, v in mat.items() if k[0] != '_'}\n",
        "\n",
        "print(mat.keys())\n",
        "print(\"All dataset: {}\".format(len(mat['y'])))"
      ],
      "metadata": {
        "colab": {
          "base_uri": "https://localhost:8080/"
        },
        "id": "IyB4FYb73tr-",
        "outputId": "def3c491-754e-4f49-af0c-0bdfa7364386"
      },
      "execution_count": 2,
      "outputs": [
        {
          "output_type": "stream",
          "name": "stdout",
          "text": [
            "dict_keys(['X', 'y'])\n",
            "All dataset: 3772\n"
          ]
        }
      ]
    },
    {
      "cell_type": "code",
      "source": [
        "mat['X']"
      ],
      "metadata": {
        "colab": {
          "base_uri": "https://localhost:8080/"
        },
        "id": "o6Qg2uHrARhY",
        "outputId": "9d0c276f-110e-4705-a2b2-4b79112ce764"
      },
      "execution_count": 3,
      "outputs": [
        {
          "output_type": "execute_result",
          "data": {
            "text/plain": [
              "array([[7.74193548e-01, 1.13207547e-03, 1.37571157e-01, 2.75700935e-01,\n",
              "        2.95774648e-01, 2.36065574e-01],\n",
              "       [2.47311828e-01, 4.71698113e-04, 2.79886148e-01, 3.29439252e-01,\n",
              "        5.35211268e-01, 1.73770492e-01],\n",
              "       [4.94623656e-01, 3.58490566e-03, 2.22960152e-01, 2.33644860e-01,\n",
              "        5.25821596e-01, 1.24590164e-01],\n",
              "       ...,\n",
              "       [9.35483871e-01, 2.45283019e-02, 1.60341556e-01, 2.82710280e-01,\n",
              "        3.75586854e-01, 2.00000000e-01],\n",
              "       [6.77419355e-01, 1.47169811e-03, 1.90702087e-01, 2.42990654e-01,\n",
              "        3.23943662e-01, 1.95081967e-01],\n",
              "       [4.83870968e-01, 3.56603774e-03, 1.90702087e-01, 2.12616822e-01,\n",
              "        3.38028169e-01, 1.63934426e-01]])"
            ]
          },
          "metadata": {},
          "execution_count": 3
        }
      ]
    },
    {
      "cell_type": "code",
      "source": [
        "mat['y']"
      ],
      "metadata": {
        "colab": {
          "base_uri": "https://localhost:8080/"
        },
        "id": "jd0-28jNATIh",
        "outputId": "87b51efd-6972-4ded-8819-88d90c3a152f"
      },
      "execution_count": 4,
      "outputs": [
        {
          "output_type": "execute_result",
          "data": {
            "text/plain": [
              "array([[0.],\n",
              "       [0.],\n",
              "       [0.],\n",
              "       ...,\n",
              "       [0.],\n",
              "       [0.],\n",
              "       [0.]])"
            ]
          },
          "metadata": {},
          "execution_count": 4
        }
      ]
    },
    {
      "cell_type": "markdown",
      "source": [
        "## 1-1 Transform Data type: Dictionary to DataFrame\n",
        "\n",
        "- Dictionary 형태에서 normal, outlier에 해당하는 index를 저장\n",
        "- X, y를 normal, outlier로 index로 구분지어 DataFrame 형의 변수에 저장"
      ],
      "metadata": {
        "id": "CfOblH0O4TXQ"
      }
    },
    {
      "cell_type": "code",
      "source": [
        "# Dictionary에서 normal, outlier에 해당하는 index를 찾아서 따로 저장\n",
        "normal_data_index = [i for i in range(len(mat['y'])) if mat['y'][i] == 0]\n",
        "outlier_data_index = [i for i in range(len(mat['y'])) if mat['y'][i] == 1]"
      ],
      "metadata": {
        "id": "c8pZWEjz31Nx"
      },
      "execution_count": 5,
      "outputs": []
    },
    {
      "cell_type": "code",
      "source": [
        "print(\"normal data: {}\".format(len(normal_data_index)))\n",
        "print(\"outlier data: {}\".format(len(outlier_data_index)))\n",
        "\n",
        "# normal index, outlier index 출력\n",
        "print(normal_data_index[:20])\n",
        "print(outlier_data_index[:20])"
      ],
      "metadata": {
        "colab": {
          "base_uri": "https://localhost:8080/"
        },
        "id": "AuZuW1wyAh1K",
        "outputId": "a443646c-2e81-4a47-8ad7-b0f184a02db6"
      },
      "execution_count": 6,
      "outputs": [
        {
          "output_type": "stream",
          "name": "stdout",
          "text": [
            "normal data: 3679\n",
            "outlier data: 93\n",
            "[0, 1, 2, 3, 4, 5, 6, 7, 8, 9, 10, 11, 12, 13, 14, 15, 16, 17, 18, 20]\n",
            "[19, 27, 105, 115, 116, 147, 208, 289, 387, 406, 429, 517, 519, 544, 568, 600, 639, 686, 794, 838]\n"
          ]
        }
      ]
    },
    {
      "cell_type": "code",
      "source": [
        "# X (data), y (label)을 먼저 DataFrame으로 저장\n",
        "dataframe_X = pd.DataFrame(mat['X'])\n",
        "dataframe_y = pd.DataFrame(mat['y'])"
      ],
      "metadata": {
        "id": "A0klTK2BA2Cr"
      },
      "execution_count": 7,
      "outputs": []
    },
    {
      "cell_type": "code",
      "source": [
        "# DataFrame 형태 확인\n",
        "dataframe_X.head()"
      ],
      "metadata": {
        "colab": {
          "base_uri": "https://localhost:8080/",
          "height": 206
        },
        "id": "cpzZiXh-A3nK",
        "outputId": "76de430a-65c7-47a3-b86b-29f81d3d459d"
      },
      "execution_count": 8,
      "outputs": [
        {
          "output_type": "execute_result",
          "data": {
            "text/plain": [
              "          0         1         2         3         4         5\n",
              "0  0.774194  0.001132  0.137571  0.275701  0.295775  0.236066\n",
              "1  0.247312  0.000472  0.279886  0.329439  0.535211  0.173770\n",
              "2  0.494624  0.003585  0.222960  0.233645  0.525822  0.124590\n",
              "3  0.677419  0.001698  0.156546  0.175234  0.333333  0.136066\n",
              "4  0.236559  0.000472  0.241935  0.320093  0.333333  0.247541"
            ],
            "text/html": [
              "\n",
              "  <div id=\"df-0b2a9974-f1d3-442d-b768-5fc78a352e10\">\n",
              "    <div class=\"colab-df-container\">\n",
              "      <div>\n",
              "<style scoped>\n",
              "    .dataframe tbody tr th:only-of-type {\n",
              "        vertical-align: middle;\n",
              "    }\n",
              "\n",
              "    .dataframe tbody tr th {\n",
              "        vertical-align: top;\n",
              "    }\n",
              "\n",
              "    .dataframe thead th {\n",
              "        text-align: right;\n",
              "    }\n",
              "</style>\n",
              "<table border=\"1\" class=\"dataframe\">\n",
              "  <thead>\n",
              "    <tr style=\"text-align: right;\">\n",
              "      <th></th>\n",
              "      <th>0</th>\n",
              "      <th>1</th>\n",
              "      <th>2</th>\n",
              "      <th>3</th>\n",
              "      <th>4</th>\n",
              "      <th>5</th>\n",
              "    </tr>\n",
              "  </thead>\n",
              "  <tbody>\n",
              "    <tr>\n",
              "      <th>0</th>\n",
              "      <td>0.774194</td>\n",
              "      <td>0.001132</td>\n",
              "      <td>0.137571</td>\n",
              "      <td>0.275701</td>\n",
              "      <td>0.295775</td>\n",
              "      <td>0.236066</td>\n",
              "    </tr>\n",
              "    <tr>\n",
              "      <th>1</th>\n",
              "      <td>0.247312</td>\n",
              "      <td>0.000472</td>\n",
              "      <td>0.279886</td>\n",
              "      <td>0.329439</td>\n",
              "      <td>0.535211</td>\n",
              "      <td>0.173770</td>\n",
              "    </tr>\n",
              "    <tr>\n",
              "      <th>2</th>\n",
              "      <td>0.494624</td>\n",
              "      <td>0.003585</td>\n",
              "      <td>0.222960</td>\n",
              "      <td>0.233645</td>\n",
              "      <td>0.525822</td>\n",
              "      <td>0.124590</td>\n",
              "    </tr>\n",
              "    <tr>\n",
              "      <th>3</th>\n",
              "      <td>0.677419</td>\n",
              "      <td>0.001698</td>\n",
              "      <td>0.156546</td>\n",
              "      <td>0.175234</td>\n",
              "      <td>0.333333</td>\n",
              "      <td>0.136066</td>\n",
              "    </tr>\n",
              "    <tr>\n",
              "      <th>4</th>\n",
              "      <td>0.236559</td>\n",
              "      <td>0.000472</td>\n",
              "      <td>0.241935</td>\n",
              "      <td>0.320093</td>\n",
              "      <td>0.333333</td>\n",
              "      <td>0.247541</td>\n",
              "    </tr>\n",
              "  </tbody>\n",
              "</table>\n",
              "</div>\n",
              "      <button class=\"colab-df-convert\" onclick=\"convertToInteractive('df-0b2a9974-f1d3-442d-b768-5fc78a352e10')\"\n",
              "              title=\"Convert this dataframe to an interactive table.\"\n",
              "              style=\"display:none;\">\n",
              "        \n",
              "  <svg xmlns=\"http://www.w3.org/2000/svg\" height=\"24px\"viewBox=\"0 0 24 24\"\n",
              "       width=\"24px\">\n",
              "    <path d=\"M0 0h24v24H0V0z\" fill=\"none\"/>\n",
              "    <path d=\"M18.56 5.44l.94 2.06.94-2.06 2.06-.94-2.06-.94-.94-2.06-.94 2.06-2.06.94zm-11 1L8.5 8.5l.94-2.06 2.06-.94-2.06-.94L8.5 2.5l-.94 2.06-2.06.94zm10 10l.94 2.06.94-2.06 2.06-.94-2.06-.94-.94-2.06-.94 2.06-2.06.94z\"/><path d=\"M17.41 7.96l-1.37-1.37c-.4-.4-.92-.59-1.43-.59-.52 0-1.04.2-1.43.59L10.3 9.45l-7.72 7.72c-.78.78-.78 2.05 0 2.83L4 21.41c.39.39.9.59 1.41.59.51 0 1.02-.2 1.41-.59l7.78-7.78 2.81-2.81c.8-.78.8-2.07 0-2.86zM5.41 20L4 18.59l7.72-7.72 1.47 1.35L5.41 20z\"/>\n",
              "  </svg>\n",
              "      </button>\n",
              "      \n",
              "  <style>\n",
              "    .colab-df-container {\n",
              "      display:flex;\n",
              "      flex-wrap:wrap;\n",
              "      gap: 12px;\n",
              "    }\n",
              "\n",
              "    .colab-df-convert {\n",
              "      background-color: #E8F0FE;\n",
              "      border: none;\n",
              "      border-radius: 50%;\n",
              "      cursor: pointer;\n",
              "      display: none;\n",
              "      fill: #1967D2;\n",
              "      height: 32px;\n",
              "      padding: 0 0 0 0;\n",
              "      width: 32px;\n",
              "    }\n",
              "\n",
              "    .colab-df-convert:hover {\n",
              "      background-color: #E2EBFA;\n",
              "      box-shadow: 0px 1px 2px rgba(60, 64, 67, 0.3), 0px 1px 3px 1px rgba(60, 64, 67, 0.15);\n",
              "      fill: #174EA6;\n",
              "    }\n",
              "\n",
              "    [theme=dark] .colab-df-convert {\n",
              "      background-color: #3B4455;\n",
              "      fill: #D2E3FC;\n",
              "    }\n",
              "\n",
              "    [theme=dark] .colab-df-convert:hover {\n",
              "      background-color: #434B5C;\n",
              "      box-shadow: 0px 1px 3px 1px rgba(0, 0, 0, 0.15);\n",
              "      filter: drop-shadow(0px 1px 2px rgba(0, 0, 0, 0.3));\n",
              "      fill: #FFFFFF;\n",
              "    }\n",
              "  </style>\n",
              "\n",
              "      <script>\n",
              "        const buttonEl =\n",
              "          document.querySelector('#df-0b2a9974-f1d3-442d-b768-5fc78a352e10 button.colab-df-convert');\n",
              "        buttonEl.style.display =\n",
              "          google.colab.kernel.accessAllowed ? 'block' : 'none';\n",
              "\n",
              "        async function convertToInteractive(key) {\n",
              "          const element = document.querySelector('#df-0b2a9974-f1d3-442d-b768-5fc78a352e10');\n",
              "          const dataTable =\n",
              "            await google.colab.kernel.invokeFunction('convertToInteractive',\n",
              "                                                     [key], {});\n",
              "          if (!dataTable) return;\n",
              "\n",
              "          const docLinkHtml = 'Like what you see? Visit the ' +\n",
              "            '<a target=\"_blank\" href=https://colab.research.google.com/notebooks/data_table.ipynb>data table notebook</a>'\n",
              "            + ' to learn more about interactive tables.';\n",
              "          element.innerHTML = '';\n",
              "          dataTable['output_type'] = 'display_data';\n",
              "          await google.colab.output.renderOutput(dataTable, element);\n",
              "          const docLink = document.createElement('div');\n",
              "          docLink.innerHTML = docLinkHtml;\n",
              "          element.appendChild(docLink);\n",
              "        }\n",
              "      </script>\n",
              "    </div>\n",
              "  </div>\n",
              "  "
            ]
          },
          "metadata": {},
          "execution_count": 8
        }
      ]
    },
    {
      "cell_type": "code",
      "source": [
        "# DataFrame 형태 확인\n",
        "dataframe_y.head()"
      ],
      "metadata": {
        "colab": {
          "base_uri": "https://localhost:8080/",
          "height": 206
        },
        "id": "E8-wRvT1A62-",
        "outputId": "6ff8d88a-d612-4889-9722-d5ea9bc3af86"
      },
      "execution_count": 9,
      "outputs": [
        {
          "output_type": "execute_result",
          "data": {
            "text/plain": [
              "     0\n",
              "0  0.0\n",
              "1  0.0\n",
              "2  0.0\n",
              "3  0.0\n",
              "4  0.0"
            ],
            "text/html": [
              "\n",
              "  <div id=\"df-edc67fa2-2691-4518-b55c-ab85771f591c\">\n",
              "    <div class=\"colab-df-container\">\n",
              "      <div>\n",
              "<style scoped>\n",
              "    .dataframe tbody tr th:only-of-type {\n",
              "        vertical-align: middle;\n",
              "    }\n",
              "\n",
              "    .dataframe tbody tr th {\n",
              "        vertical-align: top;\n",
              "    }\n",
              "\n",
              "    .dataframe thead th {\n",
              "        text-align: right;\n",
              "    }\n",
              "</style>\n",
              "<table border=\"1\" class=\"dataframe\">\n",
              "  <thead>\n",
              "    <tr style=\"text-align: right;\">\n",
              "      <th></th>\n",
              "      <th>0</th>\n",
              "    </tr>\n",
              "  </thead>\n",
              "  <tbody>\n",
              "    <tr>\n",
              "      <th>0</th>\n",
              "      <td>0.0</td>\n",
              "    </tr>\n",
              "    <tr>\n",
              "      <th>1</th>\n",
              "      <td>0.0</td>\n",
              "    </tr>\n",
              "    <tr>\n",
              "      <th>2</th>\n",
              "      <td>0.0</td>\n",
              "    </tr>\n",
              "    <tr>\n",
              "      <th>3</th>\n",
              "      <td>0.0</td>\n",
              "    </tr>\n",
              "    <tr>\n",
              "      <th>4</th>\n",
              "      <td>0.0</td>\n",
              "    </tr>\n",
              "  </tbody>\n",
              "</table>\n",
              "</div>\n",
              "      <button class=\"colab-df-convert\" onclick=\"convertToInteractive('df-edc67fa2-2691-4518-b55c-ab85771f591c')\"\n",
              "              title=\"Convert this dataframe to an interactive table.\"\n",
              "              style=\"display:none;\">\n",
              "        \n",
              "  <svg xmlns=\"http://www.w3.org/2000/svg\" height=\"24px\"viewBox=\"0 0 24 24\"\n",
              "       width=\"24px\">\n",
              "    <path d=\"M0 0h24v24H0V0z\" fill=\"none\"/>\n",
              "    <path d=\"M18.56 5.44l.94 2.06.94-2.06 2.06-.94-2.06-.94-.94-2.06-.94 2.06-2.06.94zm-11 1L8.5 8.5l.94-2.06 2.06-.94-2.06-.94L8.5 2.5l-.94 2.06-2.06.94zm10 10l.94 2.06.94-2.06 2.06-.94-2.06-.94-.94-2.06-.94 2.06-2.06.94z\"/><path d=\"M17.41 7.96l-1.37-1.37c-.4-.4-.92-.59-1.43-.59-.52 0-1.04.2-1.43.59L10.3 9.45l-7.72 7.72c-.78.78-.78 2.05 0 2.83L4 21.41c.39.39.9.59 1.41.59.51 0 1.02-.2 1.41-.59l7.78-7.78 2.81-2.81c.8-.78.8-2.07 0-2.86zM5.41 20L4 18.59l7.72-7.72 1.47 1.35L5.41 20z\"/>\n",
              "  </svg>\n",
              "      </button>\n",
              "      \n",
              "  <style>\n",
              "    .colab-df-container {\n",
              "      display:flex;\n",
              "      flex-wrap:wrap;\n",
              "      gap: 12px;\n",
              "    }\n",
              "\n",
              "    .colab-df-convert {\n",
              "      background-color: #E8F0FE;\n",
              "      border: none;\n",
              "      border-radius: 50%;\n",
              "      cursor: pointer;\n",
              "      display: none;\n",
              "      fill: #1967D2;\n",
              "      height: 32px;\n",
              "      padding: 0 0 0 0;\n",
              "      width: 32px;\n",
              "    }\n",
              "\n",
              "    .colab-df-convert:hover {\n",
              "      background-color: #E2EBFA;\n",
              "      box-shadow: 0px 1px 2px rgba(60, 64, 67, 0.3), 0px 1px 3px 1px rgba(60, 64, 67, 0.15);\n",
              "      fill: #174EA6;\n",
              "    }\n",
              "\n",
              "    [theme=dark] .colab-df-convert {\n",
              "      background-color: #3B4455;\n",
              "      fill: #D2E3FC;\n",
              "    }\n",
              "\n",
              "    [theme=dark] .colab-df-convert:hover {\n",
              "      background-color: #434B5C;\n",
              "      box-shadow: 0px 1px 3px 1px rgba(0, 0, 0, 0.15);\n",
              "      filter: drop-shadow(0px 1px 2px rgba(0, 0, 0, 0.3));\n",
              "      fill: #FFFFFF;\n",
              "    }\n",
              "  </style>\n",
              "\n",
              "      <script>\n",
              "        const buttonEl =\n",
              "          document.querySelector('#df-edc67fa2-2691-4518-b55c-ab85771f591c button.colab-df-convert');\n",
              "        buttonEl.style.display =\n",
              "          google.colab.kernel.accessAllowed ? 'block' : 'none';\n",
              "\n",
              "        async function convertToInteractive(key) {\n",
              "          const element = document.querySelector('#df-edc67fa2-2691-4518-b55c-ab85771f591c');\n",
              "          const dataTable =\n",
              "            await google.colab.kernel.invokeFunction('convertToInteractive',\n",
              "                                                     [key], {});\n",
              "          if (!dataTable) return;\n",
              "\n",
              "          const docLinkHtml = 'Like what you see? Visit the ' +\n",
              "            '<a target=\"_blank\" href=https://colab.research.google.com/notebooks/data_table.ipynb>data table notebook</a>'\n",
              "            + ' to learn more about interactive tables.';\n",
              "          element.innerHTML = '';\n",
              "          dataTable['output_type'] = 'display_data';\n",
              "          await google.colab.output.renderOutput(dataTable, element);\n",
              "          const docLink = document.createElement('div');\n",
              "          docLink.innerHTML = docLinkHtml;\n",
              "          element.appendChild(docLink);\n",
              "        }\n",
              "      </script>\n",
              "    </div>\n",
              "  </div>\n",
              "  "
            ]
          },
          "metadata": {},
          "execution_count": 9
        }
      ]
    },
    {
      "cell_type": "code",
      "source": [
        "# DataFrame에서 normal, outlier index의 행을 추출해서 분리\n",
        "normal_data_X = dataframe_X.iloc[normal_data_index]\n",
        "normal_data_y = dataframe_y.iloc[normal_data_index]\n",
        "\n",
        "fraud_data_X = dataframe_X.iloc[outlier_data_index]\n",
        "fraud_data_y = dataframe_y.iloc[outlier_data_index]"
      ],
      "metadata": {
        "id": "jQix7eZ3311N"
      },
      "execution_count": 10,
      "outputs": []
    },
    {
      "cell_type": "code",
      "source": [
        "normal_data_y"
      ],
      "metadata": {
        "colab": {
          "base_uri": "https://localhost:8080/",
          "height": 424
        },
        "id": "5uFjy974BJgy",
        "outputId": "ffe2de4d-9248-4b66-b4cf-a803e6a65c46"
      },
      "execution_count": 11,
      "outputs": [
        {
          "output_type": "execute_result",
          "data": {
            "text/plain": [
              "        0\n",
              "0     0.0\n",
              "1     0.0\n",
              "2     0.0\n",
              "3     0.0\n",
              "4     0.0\n",
              "...   ...\n",
              "3767  0.0\n",
              "3768  0.0\n",
              "3769  0.0\n",
              "3770  0.0\n",
              "3771  0.0\n",
              "\n",
              "[3679 rows x 1 columns]"
            ],
            "text/html": [
              "\n",
              "  <div id=\"df-57d7d0ed-be93-4350-84c8-dc31720ffaee\">\n",
              "    <div class=\"colab-df-container\">\n",
              "      <div>\n",
              "<style scoped>\n",
              "    .dataframe tbody tr th:only-of-type {\n",
              "        vertical-align: middle;\n",
              "    }\n",
              "\n",
              "    .dataframe tbody tr th {\n",
              "        vertical-align: top;\n",
              "    }\n",
              "\n",
              "    .dataframe thead th {\n",
              "        text-align: right;\n",
              "    }\n",
              "</style>\n",
              "<table border=\"1\" class=\"dataframe\">\n",
              "  <thead>\n",
              "    <tr style=\"text-align: right;\">\n",
              "      <th></th>\n",
              "      <th>0</th>\n",
              "    </tr>\n",
              "  </thead>\n",
              "  <tbody>\n",
              "    <tr>\n",
              "      <th>0</th>\n",
              "      <td>0.0</td>\n",
              "    </tr>\n",
              "    <tr>\n",
              "      <th>1</th>\n",
              "      <td>0.0</td>\n",
              "    </tr>\n",
              "    <tr>\n",
              "      <th>2</th>\n",
              "      <td>0.0</td>\n",
              "    </tr>\n",
              "    <tr>\n",
              "      <th>3</th>\n",
              "      <td>0.0</td>\n",
              "    </tr>\n",
              "    <tr>\n",
              "      <th>4</th>\n",
              "      <td>0.0</td>\n",
              "    </tr>\n",
              "    <tr>\n",
              "      <th>...</th>\n",
              "      <td>...</td>\n",
              "    </tr>\n",
              "    <tr>\n",
              "      <th>3767</th>\n",
              "      <td>0.0</td>\n",
              "    </tr>\n",
              "    <tr>\n",
              "      <th>3768</th>\n",
              "      <td>0.0</td>\n",
              "    </tr>\n",
              "    <tr>\n",
              "      <th>3769</th>\n",
              "      <td>0.0</td>\n",
              "    </tr>\n",
              "    <tr>\n",
              "      <th>3770</th>\n",
              "      <td>0.0</td>\n",
              "    </tr>\n",
              "    <tr>\n",
              "      <th>3771</th>\n",
              "      <td>0.0</td>\n",
              "    </tr>\n",
              "  </tbody>\n",
              "</table>\n",
              "<p>3679 rows × 1 columns</p>\n",
              "</div>\n",
              "      <button class=\"colab-df-convert\" onclick=\"convertToInteractive('df-57d7d0ed-be93-4350-84c8-dc31720ffaee')\"\n",
              "              title=\"Convert this dataframe to an interactive table.\"\n",
              "              style=\"display:none;\">\n",
              "        \n",
              "  <svg xmlns=\"http://www.w3.org/2000/svg\" height=\"24px\"viewBox=\"0 0 24 24\"\n",
              "       width=\"24px\">\n",
              "    <path d=\"M0 0h24v24H0V0z\" fill=\"none\"/>\n",
              "    <path d=\"M18.56 5.44l.94 2.06.94-2.06 2.06-.94-2.06-.94-.94-2.06-.94 2.06-2.06.94zm-11 1L8.5 8.5l.94-2.06 2.06-.94-2.06-.94L8.5 2.5l-.94 2.06-2.06.94zm10 10l.94 2.06.94-2.06 2.06-.94-2.06-.94-.94-2.06-.94 2.06-2.06.94z\"/><path d=\"M17.41 7.96l-1.37-1.37c-.4-.4-.92-.59-1.43-.59-.52 0-1.04.2-1.43.59L10.3 9.45l-7.72 7.72c-.78.78-.78 2.05 0 2.83L4 21.41c.39.39.9.59 1.41.59.51 0 1.02-.2 1.41-.59l7.78-7.78 2.81-2.81c.8-.78.8-2.07 0-2.86zM5.41 20L4 18.59l7.72-7.72 1.47 1.35L5.41 20z\"/>\n",
              "  </svg>\n",
              "      </button>\n",
              "      \n",
              "  <style>\n",
              "    .colab-df-container {\n",
              "      display:flex;\n",
              "      flex-wrap:wrap;\n",
              "      gap: 12px;\n",
              "    }\n",
              "\n",
              "    .colab-df-convert {\n",
              "      background-color: #E8F0FE;\n",
              "      border: none;\n",
              "      border-radius: 50%;\n",
              "      cursor: pointer;\n",
              "      display: none;\n",
              "      fill: #1967D2;\n",
              "      height: 32px;\n",
              "      padding: 0 0 0 0;\n",
              "      width: 32px;\n",
              "    }\n",
              "\n",
              "    .colab-df-convert:hover {\n",
              "      background-color: #E2EBFA;\n",
              "      box-shadow: 0px 1px 2px rgba(60, 64, 67, 0.3), 0px 1px 3px 1px rgba(60, 64, 67, 0.15);\n",
              "      fill: #174EA6;\n",
              "    }\n",
              "\n",
              "    [theme=dark] .colab-df-convert {\n",
              "      background-color: #3B4455;\n",
              "      fill: #D2E3FC;\n",
              "    }\n",
              "\n",
              "    [theme=dark] .colab-df-convert:hover {\n",
              "      background-color: #434B5C;\n",
              "      box-shadow: 0px 1px 3px 1px rgba(0, 0, 0, 0.15);\n",
              "      filter: drop-shadow(0px 1px 2px rgba(0, 0, 0, 0.3));\n",
              "      fill: #FFFFFF;\n",
              "    }\n",
              "  </style>\n",
              "\n",
              "      <script>\n",
              "        const buttonEl =\n",
              "          document.querySelector('#df-57d7d0ed-be93-4350-84c8-dc31720ffaee button.colab-df-convert');\n",
              "        buttonEl.style.display =\n",
              "          google.colab.kernel.accessAllowed ? 'block' : 'none';\n",
              "\n",
              "        async function convertToInteractive(key) {\n",
              "          const element = document.querySelector('#df-57d7d0ed-be93-4350-84c8-dc31720ffaee');\n",
              "          const dataTable =\n",
              "            await google.colab.kernel.invokeFunction('convertToInteractive',\n",
              "                                                     [key], {});\n",
              "          if (!dataTable) return;\n",
              "\n",
              "          const docLinkHtml = 'Like what you see? Visit the ' +\n",
              "            '<a target=\"_blank\" href=https://colab.research.google.com/notebooks/data_table.ipynb>data table notebook</a>'\n",
              "            + ' to learn more about interactive tables.';\n",
              "          element.innerHTML = '';\n",
              "          dataTable['output_type'] = 'display_data';\n",
              "          await google.colab.output.renderOutput(dataTable, element);\n",
              "          const docLink = document.createElement('div');\n",
              "          docLink.innerHTML = docLinkHtml;\n",
              "          element.appendChild(docLink);\n",
              "        }\n",
              "      </script>\n",
              "    </div>\n",
              "  </div>\n",
              "  "
            ]
          },
          "metadata": {},
          "execution_count": 11
        }
      ]
    },
    {
      "cell_type": "code",
      "source": [
        "fraud_data_y"
      ],
      "metadata": {
        "colab": {
          "base_uri": "https://localhost:8080/",
          "height": 424
        },
        "id": "ru_coZGiBOtS",
        "outputId": "54ab5725-6f9d-4199-d577-21b6f063a19e"
      },
      "execution_count": 12,
      "outputs": [
        {
          "output_type": "execute_result",
          "data": {
            "text/plain": [
              "        0\n",
              "19    1.0\n",
              "27    1.0\n",
              "105   1.0\n",
              "115   1.0\n",
              "116   1.0\n",
              "...   ...\n",
              "3562  1.0\n",
              "3565  1.0\n",
              "3589  1.0\n",
              "3625  1.0\n",
              "3679  1.0\n",
              "\n",
              "[93 rows x 1 columns]"
            ],
            "text/html": [
              "\n",
              "  <div id=\"df-ddbce502-ed59-4db6-8d5f-4501cdedcf72\">\n",
              "    <div class=\"colab-df-container\">\n",
              "      <div>\n",
              "<style scoped>\n",
              "    .dataframe tbody tr th:only-of-type {\n",
              "        vertical-align: middle;\n",
              "    }\n",
              "\n",
              "    .dataframe tbody tr th {\n",
              "        vertical-align: top;\n",
              "    }\n",
              "\n",
              "    .dataframe thead th {\n",
              "        text-align: right;\n",
              "    }\n",
              "</style>\n",
              "<table border=\"1\" class=\"dataframe\">\n",
              "  <thead>\n",
              "    <tr style=\"text-align: right;\">\n",
              "      <th></th>\n",
              "      <th>0</th>\n",
              "    </tr>\n",
              "  </thead>\n",
              "  <tbody>\n",
              "    <tr>\n",
              "      <th>19</th>\n",
              "      <td>1.0</td>\n",
              "    </tr>\n",
              "    <tr>\n",
              "      <th>27</th>\n",
              "      <td>1.0</td>\n",
              "    </tr>\n",
              "    <tr>\n",
              "      <th>105</th>\n",
              "      <td>1.0</td>\n",
              "    </tr>\n",
              "    <tr>\n",
              "      <th>115</th>\n",
              "      <td>1.0</td>\n",
              "    </tr>\n",
              "    <tr>\n",
              "      <th>116</th>\n",
              "      <td>1.0</td>\n",
              "    </tr>\n",
              "    <tr>\n",
              "      <th>...</th>\n",
              "      <td>...</td>\n",
              "    </tr>\n",
              "    <tr>\n",
              "      <th>3562</th>\n",
              "      <td>1.0</td>\n",
              "    </tr>\n",
              "    <tr>\n",
              "      <th>3565</th>\n",
              "      <td>1.0</td>\n",
              "    </tr>\n",
              "    <tr>\n",
              "      <th>3589</th>\n",
              "      <td>1.0</td>\n",
              "    </tr>\n",
              "    <tr>\n",
              "      <th>3625</th>\n",
              "      <td>1.0</td>\n",
              "    </tr>\n",
              "    <tr>\n",
              "      <th>3679</th>\n",
              "      <td>1.0</td>\n",
              "    </tr>\n",
              "  </tbody>\n",
              "</table>\n",
              "<p>93 rows × 1 columns</p>\n",
              "</div>\n",
              "      <button class=\"colab-df-convert\" onclick=\"convertToInteractive('df-ddbce502-ed59-4db6-8d5f-4501cdedcf72')\"\n",
              "              title=\"Convert this dataframe to an interactive table.\"\n",
              "              style=\"display:none;\">\n",
              "        \n",
              "  <svg xmlns=\"http://www.w3.org/2000/svg\" height=\"24px\"viewBox=\"0 0 24 24\"\n",
              "       width=\"24px\">\n",
              "    <path d=\"M0 0h24v24H0V0z\" fill=\"none\"/>\n",
              "    <path d=\"M18.56 5.44l.94 2.06.94-2.06 2.06-.94-2.06-.94-.94-2.06-.94 2.06-2.06.94zm-11 1L8.5 8.5l.94-2.06 2.06-.94-2.06-.94L8.5 2.5l-.94 2.06-2.06.94zm10 10l.94 2.06.94-2.06 2.06-.94-2.06-.94-.94-2.06-.94 2.06-2.06.94z\"/><path d=\"M17.41 7.96l-1.37-1.37c-.4-.4-.92-.59-1.43-.59-.52 0-1.04.2-1.43.59L10.3 9.45l-7.72 7.72c-.78.78-.78 2.05 0 2.83L4 21.41c.39.39.9.59 1.41.59.51 0 1.02-.2 1.41-.59l7.78-7.78 2.81-2.81c.8-.78.8-2.07 0-2.86zM5.41 20L4 18.59l7.72-7.72 1.47 1.35L5.41 20z\"/>\n",
              "  </svg>\n",
              "      </button>\n",
              "      \n",
              "  <style>\n",
              "    .colab-df-container {\n",
              "      display:flex;\n",
              "      flex-wrap:wrap;\n",
              "      gap: 12px;\n",
              "    }\n",
              "\n",
              "    .colab-df-convert {\n",
              "      background-color: #E8F0FE;\n",
              "      border: none;\n",
              "      border-radius: 50%;\n",
              "      cursor: pointer;\n",
              "      display: none;\n",
              "      fill: #1967D2;\n",
              "      height: 32px;\n",
              "      padding: 0 0 0 0;\n",
              "      width: 32px;\n",
              "    }\n",
              "\n",
              "    .colab-df-convert:hover {\n",
              "      background-color: #E2EBFA;\n",
              "      box-shadow: 0px 1px 2px rgba(60, 64, 67, 0.3), 0px 1px 3px 1px rgba(60, 64, 67, 0.15);\n",
              "      fill: #174EA6;\n",
              "    }\n",
              "\n",
              "    [theme=dark] .colab-df-convert {\n",
              "      background-color: #3B4455;\n",
              "      fill: #D2E3FC;\n",
              "    }\n",
              "\n",
              "    [theme=dark] .colab-df-convert:hover {\n",
              "      background-color: #434B5C;\n",
              "      box-shadow: 0px 1px 3px 1px rgba(0, 0, 0, 0.15);\n",
              "      filter: drop-shadow(0px 1px 2px rgba(0, 0, 0, 0.3));\n",
              "      fill: #FFFFFF;\n",
              "    }\n",
              "  </style>\n",
              "\n",
              "      <script>\n",
              "        const buttonEl =\n",
              "          document.querySelector('#df-ddbce502-ed59-4db6-8d5f-4501cdedcf72 button.colab-df-convert');\n",
              "        buttonEl.style.display =\n",
              "          google.colab.kernel.accessAllowed ? 'block' : 'none';\n",
              "\n",
              "        async function convertToInteractive(key) {\n",
              "          const element = document.querySelector('#df-ddbce502-ed59-4db6-8d5f-4501cdedcf72');\n",
              "          const dataTable =\n",
              "            await google.colab.kernel.invokeFunction('convertToInteractive',\n",
              "                                                     [key], {});\n",
              "          if (!dataTable) return;\n",
              "\n",
              "          const docLinkHtml = 'Like what you see? Visit the ' +\n",
              "            '<a target=\"_blank\" href=https://colab.research.google.com/notebooks/data_table.ipynb>data table notebook</a>'\n",
              "            + ' to learn more about interactive tables.';\n",
              "          element.innerHTML = '';\n",
              "          dataTable['output_type'] = 'display_data';\n",
              "          await google.colab.output.renderOutput(dataTable, element);\n",
              "          const docLink = document.createElement('div');\n",
              "          docLink.innerHTML = docLinkHtml;\n",
              "          element.appendChild(docLink);\n",
              "        }\n",
              "      </script>\n",
              "    </div>\n",
              "  </div>\n",
              "  "
            ]
          },
          "metadata": {},
          "execution_count": 12
        }
      ]
    },
    {
      "cell_type": "code",
      "source": [
        "print(\"Length of dataframe_X: {}\".format(len(dataframe_X)))\n",
        "print(\"Length of dataframe_y: {}\".format(len(dataframe_y)))\n",
        "\n",
        "print(\"Length of normal_data_X: {}\".format(len(normal_data_X)))\n",
        "print(\"Length of normal_data_y: {}\".format(len(normal_data_y)))\n",
        "\n",
        "print(\"Length of normal_data_X: {}\".format(len(fraud_data_X)))\n",
        "print(\"Length of normal_data_X: {}\".format(len(fraud_data_y)))"
      ],
      "metadata": {
        "colab": {
          "base_uri": "https://localhost:8080/"
        },
        "id": "wdPK7EqB313k",
        "outputId": "016139ac-919e-4f21-8f94-e6354d9a83fa"
      },
      "execution_count": 13,
      "outputs": [
        {
          "output_type": "stream",
          "name": "stdout",
          "text": [
            "Length of dataframe_X: 3772\n",
            "Length of dataframe_y: 3772\n",
            "Length of normal_data_X: 3679\n",
            "Length of normal_data_y: 3679\n",
            "Length of normal_data_X: 93\n",
            "Length of normal_data_X: 93\n"
          ]
        }
      ]
    },
    {
      "cell_type": "markdown",
      "source": [
        "## 1-2 Split Dataset into Trainset and Testset\n",
        "\n",
        "- 학습에는 Normal data만 사용\n",
        "- train_test_split의 인자: Normal dataset의 data, label \n",
        "- 테스트 시에는 Normal, Outlier 데이터를 모두 사용"
      ],
      "metadata": {
        "id": "m8iR9wps62AJ"
      }
    },
    {
      "cell_type": "code",
      "source": [
        "from sklearn.model_selection import train_test_split\n",
        "\n",
        "# Split train and test\n",
        "X_train, X_test, y_train, y_test = train_test_split(normal_data_X,normal_data_y,test_size=0.1,random_state=34)\n",
        "\n",
        "print(\"Length of X_train: {}\".format(len(X_train)))\n",
        "print(\"Length of y_train: {}\".format(len(y_train)))\n",
        "\n",
        "print(\"Length of X_test: {}\".format(len(X_test)))\n",
        "print(\"Length of y_test: {}\".format(len(y_test)))"
      ],
      "metadata": {
        "colab": {
          "base_uri": "https://localhost:8080/"
        },
        "id": "wjL1D4jt315o",
        "outputId": "e9b20cb1-309c-4c9f-c760-06c5b281743c"
      },
      "execution_count": 14,
      "outputs": [
        {
          "output_type": "stream",
          "name": "stdout",
          "text": [
            "Length of X_train: 3311\n",
            "Length of y_train: 3311\n",
            "Length of X_test: 368\n",
            "Length of y_test: 368\n"
          ]
        }
      ]
    },
    {
      "cell_type": "code",
      "source": [
        "# 테스트 시에는 Normal, Outlier 데이터를 모두 사용하므로 앞에서 만든 X_test, y_test에 outlier 데이터 추가\n",
        "X_test = (X_test.append(fraud_data_X,sort=False)).sort_index()\n",
        "y_test = (y_test.append(fraud_data_y,sort=False)).sort_index()\n",
        "\n",
        "print(\"Length of X_test: {}\".format(len(X_test)))\n",
        "print(\"Length of y_test: {}\".format(len(y_test)))"
      ],
      "metadata": {
        "colab": {
          "base_uri": "https://localhost:8080/"
        },
        "id": "_OrL3kt8318R",
        "outputId": "67bb99d5-5ed1-4f23-ff90-55dd6f972bcc"
      },
      "execution_count": 15,
      "outputs": [
        {
          "output_type": "stream",
          "name": "stdout",
          "text": [
            "Length of X_test: 461\n",
            "Length of y_test: 461\n"
          ]
        }
      ]
    },
    {
      "cell_type": "markdown",
      "source": [
        "### Visualization 함수 선언\n",
        "- outlier가 outlier인지를 잘 판단해야함\n",
        "- roc_curve를 그릴때 판단 기준은 Outlier label (=1)\n",
        "- pos_label=1"
      ],
      "metadata": {
        "id": "_OitVGvz-DF7"
      }
    },
    {
      "cell_type": "code",
      "source": [
        "from sklearn.metrics import roc_curve, auc, precision_recall_curve, average_precision_score\n",
        "import matplotlib.pyplot as plt\n",
        "\n",
        "# Function for visualization\n",
        "def roc_auc(labels, scores, defect_name = None, save_path = None):\n",
        "        fpr, tpr, _ = roc_curve(labels, scores, pos_label=1) # outlier label: 1\n",
        "        roc_auc = auc(fpr, tpr)\n",
        "\n",
        "        plt.title(f'ROC curve: {defect_name}')\n",
        "        plt.plot(fpr, tpr, 'b', label='AUC = %0.2f' % roc_auc)\n",
        "        plt.legend(loc='lower right')\n",
        "        plt.plot([0, 1], [0, 1], 'r--')\n",
        "        plt.xlim([0, 1])\n",
        "        plt.ylim([0, 1])\n",
        "        plt.ylabel('True Positive Rate')\n",
        "        plt.xlabel('False Positive Rate')\n",
        "\n",
        "        plt.show()\n",
        "        return roc_auc"
      ],
      "metadata": {
        "id": "ikbMC6Xn-MCV"
      },
      "execution_count": 16,
      "outputs": []
    },
    {
      "cell_type": "markdown",
      "source": [
        "# 2 모델 학습 & 시각화\n",
        "\n",
        "- Gaussian Mixture Model (GMM)\n",
        "- Kernel Density Estimation (KDE)\n",
        "- Local Outlier Factor (LOF)\n",
        "- Isolation Forest (iForest)\n"
      ],
      "metadata": {
        "id": "qU0QzI9p8FzP"
      }
    },
    {
      "cell_type": "code",
      "source": [
        "from sklearn.mixture import GaussianMixture\n",
        "from sklearn.neighbors import KernelDensity, LocalOutlierFactor\n",
        "from sklearn.ensemble import IsolationForest"
      ],
      "metadata": {
        "id": "GJHJg69_723B"
      },
      "execution_count": 17,
      "outputs": []
    },
    {
      "cell_type": "code",
      "source": [
        "# GMM 선언 및 학습\n",
        "num_mixture = 100\n",
        "GMM = GaussianMixture(n_components=num_mixture, random_state=42, covariance_type='diag')\n",
        "\n",
        "GMM.fit(X_train)\n",
        "y_test_score_gmm = -GMM.score_samples(X_test)\n",
        "\n",
        "# Precision and recall curve\n",
        "precision, recall, _ = precision_recall_curve(y_test, y_test_score_gmm, pos_label=1)\n",
        "\n",
        "# Calculate average precision\n",
        "average_precision = average_precision_score(y_test, y_test_score_gmm, pos_label=1, average = 'samples')\n",
        "\n",
        "# For Visualization\n",
        "plt.title(\"Precision-Recall Graph\")\n",
        "plt.xlabel(\"Recall\")\n",
        "plt.ylabel(\"Precision\")\n",
        "plt.plot(recall, precision, \"g\", label = \"Average Precision = %0.2F\" % average_precision)\n",
        "plt.legend(loc = \"upper right\")\n",
        "plt.show()\n",
        "\n",
        "print('average_precision:' , format(average_precision*100))"
      ],
      "metadata": {
        "colab": {
          "base_uri": "https://localhost:8080/",
          "height": 313
        },
        "id": "RwUWJkyA725C",
        "outputId": "c6220f34-7172-4374-e2a6-25d550de9854"
      },
      "execution_count": 18,
      "outputs": [
        {
          "output_type": "display_data",
          "data": {
            "text/plain": [
              "<Figure size 432x288 with 1 Axes>"
            ],
            "image/png": "[encoded data removed]"
          },
          "metadata": {
            "needs_background": "light"
          }
        },
        {
          "output_type": "stream",
          "name": "stdout",
          "text": [
            "average_precision: 92.69170595484493\n"
          ]
        }
      ]
    },
    {
      "cell_type": "code",
      "source": [
        "# KDE 선언 및 학습\n",
        "band_width = 0.1\n",
        "KDE = KernelDensity(kernel='gaussian', bandwidth=band_width)\n",
        "\n",
        "KDE.fit(X_train)\n",
        "y_test_score_kde = -KDE.score_samples(X_test)\n",
        "\n",
        "# Precision and recall curve\n",
        "precision, recall, _ = precision_recall_curve(y_test, y_test_score_kde, pos_label=1)\n",
        "\n",
        "# Calculate average precision\n",
        "average_precision = average_precision_score(y_test, y_test_score_kde, pos_label=1, average = 'samples')\n",
        "\n",
        "# For Visualization\n",
        "plt.title(\"Precision-Recall Graph\")\n",
        "plt.xlabel(\"Recall\")\n",
        "plt.ylabel(\"Precision\")\n",
        "plt.plot(recall, precision, \"g\", label = \"Average Precision = %0.2F\" % average_precision)\n",
        "plt.legend(loc = \"upper right\")\n",
        "plt.show()\n",
        "\n",
        "print('average_precision:' , format(average_precision*100))"
      ],
      "metadata": {
        "colab": {
          "base_uri": "https://localhost:8080/",
          "height": 313
        },
        "id": "DMBUK6hn727Y",
        "outputId": "70ae07ea-db8e-4904-c442-641d2c9c39ed"
      },
      "execution_count": 19,
      "outputs": [
        {
          "output_type": "display_data",
          "data": {
            "text/plain": [
              "<Figure size 432x288 with 1 Axes>"
            ],
            "image/png": "[encoded data removed]"
          },
          "metadata": {
            "needs_background": "light"
          }
        },
        {
          "output_type": "stream",
          "name": "stdout",
          "text": [
            "average_precision: 74.8533406764615\n"
          ]
        }
      ]
    },
    {
      "cell_type": "code",
      "source": [
        "# LOF 선언 및 학습\n",
        "n_neighbors = 10\n",
        "LOF = LocalOutlierFactor(n_neighbors=n_neighbors, contamination=\"auto\", novelty=True)\n",
        "\n",
        "LOF.fit(X_train)\n",
        "y_test_score_lof = -LOF.score_samples(X_test)\n",
        "\n",
        "# Precision and recall curve\n",
        "precision, recall, _ = precision_recall_curve(y_test, y_test_score_lof, pos_label=1)\n",
        "\n",
        "# Calculate average precision\n",
        "average_precision = average_precision_score(y_test, y_test_score_lof, pos_label=1, average = 'samples')\n",
        "\n",
        "# For Visualization\n",
        "plt.title(\"Precision-Recall Graph\")\n",
        "plt.xlabel(\"Recall\")\n",
        "plt.ylabel(\"Precision\")\n",
        "plt.plot(recall, precision, \"g\", label = \"Average Precision = %0.2F\" % average_precision)\n",
        "plt.legend(loc = \"upper right\")\n",
        "plt.show()\n",
        "\n",
        "print('average_precision:' , format(average_precision*100))"
      ],
      "metadata": {
        "colab": {
          "base_uri": "https://localhost:8080/",
          "height": 313
        },
        "id": "XuMlqgKl729e",
        "outputId": "8c8c9712-45df-4127-c7c8-cdbd0ad41820"
      },
      "execution_count": 20,
      "outputs": [
        {
          "output_type": "display_data",
          "data": {
            "text/plain": [
              "<Figure size 432x288 with 1 Axes>"
            ],
            "image/png": "[encoded data removed]"
          },
          "metadata": {
            "needs_background": "light"
          }
        },
        {
          "output_type": "stream",
          "name": "stdout",
          "text": [
            "average_precision: 88.3078558132218\n"
          ]
        }
      ]
    },
    {
      "cell_type": "code",
      "source": [
        "# iForest 선언\n",
        "max_samples = 100\n",
        "IForest = IsolationForest(max_samples=max_samples, contamination = 'auto', random_state=0)\n",
        "\n",
        "IForest.fit(X_train)\n",
        "y_test_score_iforest = -IForest.score_samples(X_test)\n",
        "\n",
        "# Precision and recall curve\n",
        "precision, recall, _ = precision_recall_curve(y_test, y_test_score_iforest, pos_label=1)\n",
        "\n",
        "# Calculate average precision\n",
        "average_precision = average_precision_score(y_test, y_test_score_iforest, pos_label=1, average = 'samples')\n",
        "\n",
        "# For Visualization\n",
        "plt.title(\"Precision-Recall Graph\")\n",
        "plt.xlabel(\"Recall\")\n",
        "plt.ylabel(\"Precision\")\n",
        "plt.plot(recall, precision, \"g\", label = \"Average Precision = %0.2F\" % average_precision)\n",
        "plt.legend(loc = \"upper right\")\n",
        "plt.show()\n",
        "\n",
        "print('average_precision:' , format(average_precision*100))"
      ],
      "metadata": {
        "colab": {
          "base_uri": "https://localhost:8080/",
          "height": 313
        },
        "id": "WkhEKDBU72_z",
        "outputId": "c5ea7cac-5bc4-405e-b536-293c51b20cc0"
      },
      "execution_count": 21,
      "outputs": [
        {
          "output_type": "display_data",
          "data": {
            "text/plain": [
              "<Figure size 432x288 with 1 Axes>"
            ],
            "image/png": "[encoded data removed]"
          },
          "metadata": {
            "needs_background": "light"
          }
        },
        {
          "output_type": "stream",
          "name": "stdout",
          "text": [
            "average_precision: 89.42517065027815\n"
          ]
        }
      ]
    },
    {
      "cell_type": "markdown",
      "source": [
        "# TSNE Visualization\n",
        "\n",
        "- 예측이 맞은 anomaly\n",
        "- 예측 틀린 anomaly\n",
        "- 놓친 anomaly\n",
        "- anomaly detection threshold "
      ],
      "metadata": {
        "id": "ri5pZ9olJ8SE"
      }
    },
    {
      "cell_type": "code",
      "source": [
        "from sklearn.manifold import TSNE\n",
        "from numpy import reshape\n",
        "import seaborn as sns\n",
        "import pandas as pd\n",
        "import numpy as np"
      ],
      "metadata": {
        "id": "wGbZId8mPBCJ"
      },
      "execution_count": 22,
      "outputs": []
    },
    {
      "cell_type": "code",
      "source": [
        "X_test_embedded = TSNE(n_components=2, learning_rate='auto',init='random', perplexity=3).fit_transform(X_test)"
      ],
      "metadata": {
        "id": "L-Ekrkmp4q28"
      },
      "execution_count": 23,
      "outputs": []
    },
    {
      "cell_type": "markdown",
      "source": [
        "### Gaussian Mixture Model (GMM) Visualization "
      ],
      "metadata": {
        "id": "K891t6Wj9csS"
      }
    },
    {
      "cell_type": "code",
      "source": [
        "print(y_test_score_gmm.max())\n",
        "print(y_test_score_gmm.min())\n",
        "print(y_test_score_gmm.mean())\n",
        "\n",
        "# Anomaly Threshold \n",
        "anomaly_theresold = 0.6\n",
        "\n",
        "y_TP = y_test.iloc[y_test_score_gmm>=anomaly_theresold].loc[y_test[0]==1].replace(1, 'TP')\n",
        "y_FP = y_test.iloc[y_test_score_gmm>=anomaly_theresold].loc[y_test[0]==0].replace(0, 'FP')\n",
        "y_TN = y_test.iloc[y_test_score_gmm<anomaly_theresold].loc[y_test[0]==0].replace(0, 'TN')\n",
        "y_FN = y_test.iloc[y_test_score_gmm<anomaly_theresold].loc[y_test[0]==1].replace(1, 'FN')\n",
        "\n",
        "predictions = np.concatenate((y_TP, y_FP, y_TN, y_FN),0)\n",
        "\n",
        "X_test_emb_with_y=np.concatenate((X_test_embedded,predictions),1)\n",
        "\n",
        "df_vis = pd.DataFrame(X_test_emb_with_y,columns=['x1', 'x2', 'y'])\n",
        "\n",
        "sns.scatterplot(x=\"x1\", y=\"x2\", hue=df_vis.y.tolist(), data=df_vis).set(title=\"X Embedded\")"
      ],
      "metadata": {
        "colab": {
          "base_uri": "https://localhost:8080/",
          "height": 366
        },
        "id": "QH-mz8aP9bvI",
        "outputId": "670056c7-c80c-4db3-9f19-6f42bd6700ea"
      },
      "execution_count": 24,
      "outputs": [
        {
          "output_type": "stream",
          "name": "stdout",
          "text": [
            "172.98912211918403\n",
            "-27.30520637660116\n",
            "-5.811393744896152\n"
          ]
        },
        {
          "output_type": "execute_result",
          "data": {
            "text/plain": [
              "[Text(0.5, 1.0, 'X Embedded')]"
            ]
          },
          "metadata": {},
          "execution_count": 24
        },
        {
          "output_type": "display_data",
          "data": {
            "text/plain": [
              "<Figure size 432x288 with 1 Axes>"
            ],
            "image/png": "[encoded data removed]"
          },
          "metadata": {
            "needs_background": "light"
          }
        }
      ]
    },
    {
      "cell_type": "markdown",
      "source": [
        "### Kernel Density Estimation (KDE) Visualization "
      ],
      "metadata": {
        "id": "3h3YQZ4v92pO"
      }
    },
    {
      "cell_type": "code",
      "source": [
        "print(y_test_score_kde.max())\n",
        "print(y_test_score_kde.min())\n",
        "print(y_test_score_kde.mean())\n",
        "\n",
        "# Anomaly Threshold \n",
        "anomaly_theresold = 0.6\n",
        "\n",
        "y_TP = y_test.iloc[y_test_score_kde>=anomaly_theresold].loc[y_test[0]==1].replace(1, 'TP')\n",
        "y_FP = y_test.iloc[y_test_score_kde>=anomaly_theresold].loc[y_test[0]==0].replace(0, 'FP')\n",
        "y_TN = y_test.iloc[y_test_score_kde<anomaly_theresold].loc[y_test[0]==0].replace(0, 'TN')\n",
        "y_FN = y_test.iloc[y_test_score_kde<anomaly_theresold].loc[y_test[0]==1].replace(1, 'FN')\n",
        "\n",
        "predictions = np.concatenate((y_TP, y_FP, y_TN, y_FN),0)\n",
        "\n",
        "X_test_emb_with_y=np.concatenate((X_test_embedded,predictions),1)\n",
        "\n",
        "df_vis = pd.DataFrame(X_test_emb_with_y,columns=['x1', 'x2', 'y'])\n",
        "\n",
        "sns.scatterplot(x=\"x1\", y=\"x2\", hue=df_vis.y.tolist(), data=df_vis).set(title=\"X Embedded\")"
      ],
      "metadata": {
        "colab": {
          "base_uri": "https://localhost:8080/",
          "height": 366
        },
        "id": "gE-gl0By-MMZ",
        "outputId": "4f7a2640-837c-4244-cb37-09da7d3dede3"
      },
      "execution_count": 25,
      "outputs": [
        {
          "output_type": "stream",
          "name": "stdout",
          "text": [
            "31.19838029607603\n",
            "-6.9012745908257624\n",
            "-5.056271947669955\n"
          ]
        },
        {
          "output_type": "execute_result",
          "data": {
            "text/plain": [
              "[Text(0.5, 1.0, 'X Embedded')]"
            ]
          },
          "metadata": {},
          "execution_count": 25
        },
        {
          "output_type": "display_data",
          "data": {
            "text/plain": [
              "<Figure size 432x288 with 1 Axes>"
            ],
            "image/png": "[encoded data removed]"
          },
          "metadata": {
            "needs_background": "light"
          }
        }
      ]
    },
    {
      "cell_type": "markdown",
      "source": [
        "### Local Outlier Factor (LOF) Visualization "
      ],
      "metadata": {
        "id": "7MbnwdaW-A6z"
      }
    },
    {
      "cell_type": "code",
      "source": [
        "print(y_test_score_lof.max())\n",
        "print(y_test_score_lof.min())\n",
        "print(y_test_score_lof.mean())\n",
        "\n",
        "# Anomaly Threshold \n",
        "anomaly_theresold = 0.6\n",
        "\n",
        "y_TP = y_test.iloc[y_test_score_lof>=anomaly_theresold].loc[y_test[0]==1].replace(1, 'TP')\n",
        "y_FP = y_test.iloc[y_test_score_lof>=anomaly_theresold].loc[y_test[0]==0].replace(0, 'FP')\n",
        "y_TN = y_test.iloc[y_test_score_lof<anomaly_theresold].loc[y_test[0]==0].replace(0, 'TN')\n",
        "y_FN = y_test.iloc[y_test_score_lof<anomaly_theresold].loc[y_test[0]==1].replace(1, 'FN')\n",
        "\n",
        "predictions = np.concatenate((y_TP, y_FP, y_TN, y_FN),0)\n",
        "\n",
        "X_test_emb_with_y=np.concatenate((X_test_embedded,predictions),1)\n",
        "\n",
        "df_vis = pd.DataFrame(X_test_emb_with_y,columns=['x1', 'x2', 'y'])\n",
        "\n",
        "sns.scatterplot(x=\"x1\", y=\"x2\", hue=df_vis.y.tolist(), data=df_vis).set(title=\"X Embedded\")"
      ],
      "metadata": {
        "colab": {
          "base_uri": "https://localhost:8080/",
          "height": 366
        },
        "id": "yakPXgcK-TTG",
        "outputId": "a122df43-f4d8-4a8d-80e4-edae54b4e0ed"
      },
      "execution_count": 26,
      "outputs": [
        {
          "output_type": "stream",
          "name": "stdout",
          "text": [
            "7.776823819515878\n",
            "0.9299310789399868\n",
            "1.4009154676253033\n"
          ]
        },
        {
          "output_type": "execute_result",
          "data": {
            "text/plain": [
              "[Text(0.5, 1.0, 'X Embedded')]"
            ]
          },
          "metadata": {},
          "execution_count": 26
        },
        {
          "output_type": "display_data",
          "data": {
            "text/plain": [
              "<Figure size 432x288 with 1 Axes>"
            ],
            "image/png": "[encoded data removed]"
          },
          "metadata": {
            "needs_background": "light"
          }
        }
      ]
    },
    {
      "cell_type": "markdown",
      "source": [
        "### Isolation Forest (iForest) Visualization "
      ],
      "metadata": {
        "id": "8jFPfu2i-DnN"
      }
    },
    {
      "cell_type": "code",
      "source": [
        "print(y_test_score_iforest.max())\n",
        "print(y_test_score_iforest.min())\n",
        "print(y_test_score_iforest.mean())\n",
        "\n",
        "# Anomaly Threshold \n",
        "anomaly_theresold = 0.6\n",
        "\n",
        "y_TP = y_test.iloc[y_test_score_iforest>=anomaly_theresold].loc[y_test[0]==1].replace(1, 'TP')\n",
        "y_FP = y_test.iloc[y_test_score_iforest>=anomaly_theresold].loc[y_test[0]==0].replace(0, 'FP')\n",
        "y_TN = y_test.iloc[y_test_score_iforest<anomaly_theresold].loc[y_test[0]==0].replace(0, 'TN')\n",
        "y_FN = y_test.iloc[y_test_score_iforest<anomaly_theresold].loc[y_test[0]==1].replace(1, 'FN')\n",
        "\n",
        "predictions = np.concatenate((y_TP, y_FP, y_TN, y_FN),0)\n",
        "\n",
        "X_test_emb_with_y=np.concatenate((X_test_embedded,predictions),1)\n",
        "\n",
        "df_vis = pd.DataFrame(X_test_emb_with_y,columns=['x1', 'x2', 'y'])\n",
        "\n",
        "sns.scatterplot(x=\"x1\", y=\"x2\", hue=df_vis.y.tolist(), data=df_vis).set(title=\"X Embedded\")"
      ],
      "metadata": {
        "colab": {
          "base_uri": "https://localhost:8080/",
          "height": 366
        },
        "id": "HSIOaeUZ9X5T",
        "outputId": "46925a01-f439-4998-a504-b84df4c18948"
      },
      "execution_count": 27,
      "outputs": [
        {
          "output_type": "stream",
          "name": "stdout",
          "text": [
            "0.7317968905714246\n",
            "0.34986951925371607\n",
            "0.47505020222149863\n"
          ]
        },
        {
          "output_type": "execute_result",
          "data": {
            "text/plain": [
              "[Text(0.5, 1.0, 'X Embedded')]"
            ]
          },
          "metadata": {},
          "execution_count": 27
        },
        {
          "output_type": "display_data",
          "data": {
            "text/plain": [
              "<Figure size 432x288 with 1 Axes>"
            ],
            "image/png": "[encoded data removed]"
          },
          "metadata": {
            "needs_background": "light"
          }
        }
      ]
    }
  ]
}